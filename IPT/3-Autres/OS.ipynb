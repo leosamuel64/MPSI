{
 "cells": [
  {
   "cell_type": "markdown",
   "metadata": {},
   "source": [
    "# OS\n",
    "\n",
    "## Commande de base\n",
    "```Bash\n",
    "> cd\n",
    "> ls\n",
    "```\n",
    "\n",
    "Avec Python\n",
    "\n",
    "\n",
    "\n"
   ]
  },
  {
   "cell_type": "code",
   "execution_count": 1,
   "metadata": {
    "tags": []
   },
   "outputs": [
    {
     "output_type": "stream",
     "name": "stdout",
     "text": "-f/home/leo/.local/share/jupyter/runtime/kernel-584901de-d473-4b56-ace3-640f9d01d1eb.json\n"
    }
   ],
   "source": [
    "#! /usr/bin/python3\n",
    "\n",
    "import sys\n",
    "\n",
    "def add(a,b):\n",
    "    return a+b\n",
    "\n",
    "print(add(sys.argv[1],sys.argv[2]))"
   ]
  },
  {
   "cell_type": "markdown",
   "metadata": {},
   "source": [
    "Fichier exemple.ml et addition pour la compilation en Ocaml"
   ]
  }
 ],
 "metadata": {
  "language_info": {
   "codemirror_mode": {
    "name": "ipython",
    "version": 3
   },
   "file_extension": ".py",
   "mimetype": "text/x-python",
   "name": "python",
   "nbconvert_exporter": "python",
   "pygments_lexer": "ipython3",
   "version": "3.5.3-final"
  },
  "orig_nbformat": 2,
  "kernelspec": {
   "name": "python35364bit4d580ec4298e433cb38d4df22f78518b",
   "display_name": "Python 3.5.3 64-bit"
  }
 },
 "nbformat": 4,
 "nbformat_minor": 2
}